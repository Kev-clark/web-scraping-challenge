{
 "cells": [
  {
   "cell_type": "markdown",
   "metadata": {},
   "source": [
    "# Dependencies"
   ]
  },
  {
   "cell_type": "code",
   "execution_count": 1,
   "metadata": {},
   "outputs": [],
   "source": [
    "\n",
    "from bs4 import BeautifulSoup\n",
    "import requests\n",
    "import pymongo\n",
    "import pandas as pd\n",
    "from splinter import Browser\n",
    "from selenium import webdriver"
   ]
  },
  {
   "cell_type": "code",
   "execution_count": 2,
   "metadata": {},
   "outputs": [],
   "source": [
    "executable_path = {\"executable_path\": \"chromedriver.exe\"}"
   ]
  },
  {
   "cell_type": "code",
   "execution_count": 3,
   "metadata": {},
   "outputs": [],
   "source": [
    "# Initialize PyMongo to work with MongoDBs\n",
    "conn = 'mongodb://localhost:27017'\n",
    "client = pymongo.MongoClient(conn)"
   ]
  },
  {
   "cell_type": "code",
   "execution_count": null,
   "metadata": {},
   "outputs": [],
   "source": []
  },
  {
   "cell_type": "markdown",
   "metadata": {},
   "source": [
    "# NEWS ARTICLE"
   ]
  },
  {
   "cell_type": "code",
   "execution_count": 4,
   "metadata": {},
   "outputs": [],
   "source": []
  },
  {
   "cell_type": "code",
   "execution_count": 68,
   "metadata": {},
   "outputs": [],
   "source": [
    "def recentMarsNews():\n",
    "    url ='https://mars.nasa.gov/news/?page=0&per_page=40&order=publish_date+desc%2Ccreated_at+desc&search=&category=19%2C165%2C184%2C204&blank_scope=Latest'\n",
    "    browser=Browser(\"chrome\", **executable_path, headless=False)\n",
    "    browser.visit(url)\n",
    "    html=browser.html\n",
    "    browser.quit()\n",
    "    soup = BeautifulSoup(html, \"html.parser\")\n",
    "    title=soup.find('div', class_=\"content_title\").text\n",
    "    text=soup.find('div', class_=\"rollover_description_inner\").text\n",
    "    return(title, text)"
   ]
  },
  {
   "cell_type": "code",
   "execution_count": 70,
   "metadata": {},
   "outputs": [
    {
     "data": {
      "text/plain": [
       "\"NASA's Curiosity Rover Finds an Ancient Oasis on Mars\""
      ]
     },
     "execution_count": 70,
     "metadata": {},
     "output_type": "execute_result"
    }
   ],
   "source": [
    "recentMarsNews()\n"
   ]
  },
  {
   "cell_type": "code",
   "execution_count": 7,
   "metadata": {},
   "outputs": [
    {
     "name": "stdout",
     "output_type": "stream",
     "text": [
      "NASA's Curiosity Rover Finds an Ancient Oasis on Mars: New evidence suggests salty, shallow ponds once dotted a Martian crater — a sign of the planet's drying climate.\n"
     ]
    }
   ],
   "source": [
    "\n"
   ]
  },
  {
   "cell_type": "markdown",
   "metadata": {},
   "source": [
    "# Full-size image"
   ]
  },
  {
   "cell_type": "code",
   "execution_count": 9,
   "metadata": {},
   "outputs": [],
   "source": []
  },
  {
   "cell_type": "code",
   "execution_count": 63,
   "metadata": {},
   "outputs": [],
   "source": [
    "def findMarsPic():\n",
    "    img_url_pg=\"https://www.jpl.nasa.gov/spaceimages/?search=&category=Mars\"\n",
    "    img_browser=Browser(\"chrome\", **executable_path, headless=False)\n",
    "    img_browser.visit(img_url_pg)\n",
    "    img_html=img_browser.html\n",
    "    img_soup=BeautifulSoup(img_html, \"html.parser\")\n",
    "    featured_img=img_url_pg+img_soup.find('a', class_=\"fancybox\").get('data-link')\n",
    "    return(featured_img)\n"
   ]
  },
  {
   "cell_type": "code",
   "execution_count": 64,
   "metadata": {},
   "outputs": [
    {
     "data": {
      "text/plain": [
       "'https://www.jpl.nasa.gov/spaceimages/?search=&category=Mars/spaceimages/details.php?id=PIA17044'"
      ]
     },
     "execution_count": 64,
     "metadata": {},
     "output_type": "execute_result"
    }
   ],
   "source": [
    "findMarsPic()"
   ]
  },
  {
   "cell_type": "markdown",
   "metadata": {},
   "source": [
    "# Mars Weather:"
   ]
  },
  {
   "cell_type": "code",
   "execution_count": 53,
   "metadata": {},
   "outputs": [],
   "source": []
  },
  {
   "cell_type": "code",
   "execution_count": 65,
   "metadata": {},
   "outputs": [],
   "source": [
    "def currentMarsWeather():\n",
    "    weather_url=\"https://twitter.com/marswxreport?lang=en\"\n",
    "    weather_browser=Browser(\"chrome\", **executable_path, headless=False)\n",
    "    weather_browser.visit(weather_url)\n",
    "    weather_html=weather_browser.html\n",
    "    weather_soup=BeautifulSoup(weather_html, 'html.parser')\n",
    "    weather_browser.quit()\n",
    "    return (weather_soup.find('div', class_=\"js-tweet-text-container\").text)"
   ]
  },
  {
   "cell_type": "code",
   "execution_count": 66,
   "metadata": {},
   "outputs": [
    {
     "data": {
      "text/plain": [
       "'\\nInSight sol 314 (2019-10-15) low -102.8ºC (-153.0ºF) high -24.8ºC (-12.6ºF)\\nwinds from the SSE at 4.9 m/s (11.1 mph) gusting to 19.7 m/s (44.0 mph)\\npressure at 7.20 hPapic.twitter.com/VONawbIeG4\\n'"
      ]
     },
     "execution_count": 66,
     "metadata": {},
     "output_type": "execute_result"
    }
   ],
   "source": [
    "currentMarsWeather()"
   ]
  },
  {
   "cell_type": "code",
   "execution_count": null,
   "metadata": {},
   "outputs": [],
   "source": []
  },
  {
   "cell_type": "code",
   "execution_count": null,
   "metadata": {},
   "outputs": [],
   "source": []
  },
  {
   "cell_type": "markdown",
   "metadata": {},
   "source": [
    "# Mars Facts:"
   ]
  },
  {
   "cell_type": "code",
   "execution_count": 92,
   "metadata": {},
   "outputs": [],
   "source": [
    "def getMarsFacts():\n",
    "    fact_url=\"https://space-facts.com/mars/\"\n",
    "    fact_browser=Browser(\"chrome\", **executable_path, headless=False)\n",
    "    fact_browser.visit(fact_url)\n",
    "    fact_html=fact_browser.html\n",
    "    fact_soup=BeautifulSoup(fact_html, 'html.parser')\n",
    "    fact_browser.quit()\n",
    "    fact_table=pd.DataFrame(pd.read_html(fact_html))\n",
    "    return (fact_table.to_html())"
   ]
  },
  {
   "cell_type": "code",
   "execution_count": 93,
   "metadata": {},
   "outputs": [
    {
     "data": {
      "text/plain": [
       "'<table border=\"1\" class=\"dataframe\">\\n  <thead>\\n    <tr style=\"text-align: right;\">\\n      <th></th>\\n      <th>0</th>\\n    </tr>\\n  </thead>\\n  <tbody>\\n    <tr>\\n      <th>0</th>\\n      <td>Mars - Earth Comparison             Mars    ...</td>\\n    </tr>\\n    <tr>\\n      <th>1</th>\\n      <td>0                       ...</td>\\n    </tr>\\n  </tbody>\\n</table>'"
      ]
     },
     "execution_count": 93,
     "metadata": {},
     "output_type": "execute_result"
    }
   ],
   "source": [
    "getMarsFacts()"
   ]
  },
  {
   "cell_type": "markdown",
   "metadata": {},
   "source": [
    "# Mars Hemispheres"
   ]
  },
  {
   "cell_type": "code",
   "execution_count": 120,
   "metadata": {},
   "outputs": [],
   "source": [
    "def getMarsHems():\n",
    "    base=\"https://astrogeology.usgs.gov\"\n",
    "    hems_url=\"https://astrogeology.usgs.gov/search/results?q=hemisphere+enhanced&k1=target&v1=Mars\"\n",
    "    hems_browser=Browser(\"chrome\", **executable_path, headless=False)\n",
    "    hems_browser.visit(hems_url)\n",
    "    hems_soup=BeautifulSoup(hems_browser.html, 'lxml')\n",
    "    hems_browser.quit()\n",
    "    list_img_url=[]\n",
    "    for x in hems_soup.find_all('div', class_=\"item\"):\n",
    "        linkx=base+ x.find('a')[\"href\"]\n",
    "        list_img_url.append(linkx)\n",
    "    \n",
    "    return(getEnchancedMarsImg(list_img_url))"
   ]
  },
  {
   "cell_type": "code",
   "execution_count": 140,
   "metadata": {},
   "outputs": [],
   "source": [
    " def getEnchancedMarsImg(url_list):\n",
    "    browserx=Browser(\"chrome\", **executable_path, headless=False)\n",
    "    hemisphere_image_urls=[]\n",
    "    for x in url_list:\n",
    "        browserx.visit(x)\n",
    "        xsoup=BeautifulSoup(browserx.html, 'lxml')\n",
    "        title=xsoup.find('title').text\n",
    "        title=title.split(\" |\")\n",
    "        title=title[0]\n",
    "        for u in xsoup.find_all('li'):\n",
    "            if u.a.text==\"Original\":\n",
    "                img_link=u.a[\"href\"]\n",
    "        img_dic={\"title\":title, \n",
    "                \"img_url\":img_link}\n",
    "        hemisphere_image_urls.append(img_dic)\n",
    "        \n",
    "    browserx.quit()\n",
    "    return(hemisphere_image_urls)\n",
    "        \n",
    "        "
   ]
  },
  {
   "cell_type": "code",
   "execution_count": 141,
   "metadata": {},
   "outputs": [
    {
     "data": {
      "text/plain": [
       "[{'title': 'Cerberus Hemisphere Enhanced',\n",
       "  'img_url': 'http://astropedia.astrogeology.usgs.gov/download/Mars/Viking/cerberus_enhanced.tif'},\n",
       " {'title': 'Schiaparelli Hemisphere Enhanced',\n",
       "  'img_url': 'http://astropedia.astrogeology.usgs.gov/download/Mars/Viking/schiaparelli_enhanced.tif'},\n",
       " {'title': 'Syrtis Major Hemisphere Enhanced',\n",
       "  'img_url': 'http://astropedia.astrogeology.usgs.gov/download/Mars/Viking/syrtis_major_enhanced.tif'},\n",
       " {'title': 'Valles Marineris Hemisphere Enhanced',\n",
       "  'img_url': 'http://astropedia.astrogeology.usgs.gov/download/Mars/Viking/valles_marineris_enhanced.tif'}]"
      ]
     },
     "execution_count": 141,
     "metadata": {},
     "output_type": "execute_result"
    }
   ],
   "source": [
    "getMarsHems()"
   ]
  },
  {
   "cell_type": "code",
   "execution_count": null,
   "metadata": {},
   "outputs": [],
   "source": []
  }
 ],
 "metadata": {
  "kernelspec": {
   "display_name": "Conda [PythonData]",
   "language": "python",
   "name": "pythondata"
  },
  "language_info": {
   "codemirror_mode": {
    "name": "ipython",
    "version": 3
   },
   "file_extension": ".py",
   "mimetype": "text/x-python",
   "name": "python",
   "nbconvert_exporter": "python",
   "pygments_lexer": "ipython3",
   "version": "3.7.3"
  }
 },
 "nbformat": 4,
 "nbformat_minor": 2
}
